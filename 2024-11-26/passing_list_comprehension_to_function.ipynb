{
 "cells": [
  {
   "cell_type": "markdown",
   "id": "b95c5fe4-eb7f-4b2f-9ce8-0473b38d9f7d",
   "metadata": {},
   "source": [
    "# Purpose\n",
    "\n",
    "Investigate passing a list comprehension to a function. Are the outer square brackets needed? **Answer: NO**."
   ]
  },
  {
   "cell_type": "code",
   "execution_count": 2,
   "id": "56ae1cac-861f-4d54-9069-3d720a27e0bf",
   "metadata": {},
   "outputs": [
    {
     "name": "stdout",
     "output_type": "stream",
     "text": [
      "0\n",
      "1\n",
      "2\n",
      "3\n",
      "4\n"
     ]
    }
   ],
   "source": [
    "def echo_arguments(args):\n",
    "    for arg in args:\n",
    "        print(arg)\n",
    "\n",
    "echo_arguments([0, 1, 2, 3, 4])"
   ]
  },
  {
   "cell_type": "code",
   "execution_count": 3,
   "id": "b7a46e57-fb7c-4a91-a5b6-6deb621517d2",
   "metadata": {},
   "outputs": [
    {
     "name": "stdout",
     "output_type": "stream",
     "text": [
      "0\n",
      "1\n",
      "2\n",
      "3\n",
      "4\n"
     ]
    }
   ],
   "source": [
    "echo_arguments([x for x in range(5)])"
   ]
  },
  {
   "cell_type": "code",
   "execution_count": 4,
   "id": "18e35258-dd80-42e7-99a2-d6175103a1de",
   "metadata": {},
   "outputs": [
    {
     "name": "stdout",
     "output_type": "stream",
     "text": [
      "0\n",
      "1\n",
      "2\n",
      "3\n",
      "4\n"
     ]
    }
   ],
   "source": [
    "echo_arguments(x for x in range(5))"
   ]
  },
  {
   "cell_type": "code",
   "execution_count": null,
   "id": "5a81b768-2d26-4c06-b509-e3a6b43d77b1",
   "metadata": {},
   "outputs": [],
   "source": []
  }
 ],
 "metadata": {
  "kernelspec": {
   "display_name": "firedrake",
   "language": "python",
   "name": "firedrake"
  },
  "language_info": {
   "codemirror_mode": {
    "name": "ipython",
    "version": 3
   },
   "file_extension": ".py",
   "mimetype": "text/x-python",
   "name": "python",
   "nbconvert_exporter": "python",
   "pygments_lexer": "ipython3",
   "version": "3.11.9"
  }
 },
 "nbformat": 4,
 "nbformat_minor": 5
}
